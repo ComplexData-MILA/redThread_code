{
 "cells": [
  {
   "cell_type": "code",
   "execution_count": 98,
   "metadata": {},
   "outputs": [],
   "source": [
    "import pandas as pd\n",
    "import numpy as np\n",
    "import pickle as pkl\n",
    "import matplotlib.pyplot as plt\n",
    "\n",
    "from nltk import word_tokenize \n",
    "from nltk.util import ngrams\n",
    "from nltk.corpus import stopwords\n",
    "\n",
    "from sklearn.feature_extraction.text import CountVectorizer"
   ]
  },
  {
   "cell_type": "code",
   "execution_count": 7,
   "metadata": {},
   "outputs": [
    {
     "name": "stderr",
     "output_type": "stream",
     "text": [
      "/usr/local/lib/python3.6/dist-packages/IPython/core/interactiveshell.py:3051: DtypeWarning: Columns (4) have mixed types.Specify dtype option on import or set low_memory=False.\n",
      "  interactivity=interactivity, compiler=compiler, result=result)\n"
     ]
    },
    {
     "data": {
      "text/html": [
       "<div>\n",
       "<style scoped>\n",
       "    .dataframe tbody tr th:only-of-type {\n",
       "        vertical-align: middle;\n",
       "    }\n",
       "\n",
       "    .dataframe tbody tr th {\n",
       "        vertical-align: top;\n",
       "    }\n",
       "\n",
       "    .dataframe thead th {\n",
       "        text-align: right;\n",
       "    }\n",
       "</style>\n",
       "<table border=\"1\" class=\"dataframe\">\n",
       "  <thead>\n",
       "    <tr style=\"text-align: right;\">\n",
       "      <th></th>\n",
       "      <th>PostingDate</th>\n",
       "      <th>Url</th>\n",
       "      <th>l_Location</th>\n",
       "      <th>u_Age</th>\n",
       "      <th>u_Description</th>\n",
       "      <th>u_Title</th>\n",
       "      <th>u_Location</th>\n",
       "      <th>e_PhoneNumbers</th>\n",
       "      <th>u_PhoneNumbers</th>\n",
       "      <th>e_Emails</th>\n",
       "    </tr>\n",
       "  </thead>\n",
       "  <tbody>\n",
       "    <tr>\n",
       "      <th>0</th>\n",
       "      <td>Thu 14 Apr 2016 11:40 AM</td>\n",
       "      <td>https://independent.com.calgary.listcrawler.co...</td>\n",
       "      <td>calgary</td>\n",
       "      <td>31</td>\n",
       "      <td>Take the time to enjoy your night with me.. 40...</td>\n",
       "      <td>Sinfully sweet</td>\n",
       "      <td>Calgary, Downtown, Mins from Downtown, Northea...</td>\n",
       "      <td>['4039715391']</td>\n",
       "      <td>['4039715391']</td>\n",
       "      <td>[]</td>\n",
       "    </tr>\n",
       "    <tr>\n",
       "      <th>1</th>\n",
       "      <td>Tue 04 Jul 2017 08:30 AM</td>\n",
       "      <td>https://yolo.com.calgary.listcrawler.com/post/...</td>\n",
       "      <td>calgary</td>\n",
       "      <td>28</td>\n",
       "      <td>Maria Vega  Latina for Real!!!Plz read my rate...</td>\n",
       "      <td>Tired fake AddsFake Expectations36 DDD Real 10...</td>\n",
       "      <td>Calgary, Downtown, DOWNTOWN CORE INCALL and OU...</td>\n",
       "      <td>['4389267478']</td>\n",
       "      <td>['4389267478']</td>\n",
       "      <td>[]</td>\n",
       "    </tr>\n",
       "    <tr>\n",
       "      <th>2</th>\n",
       "      <td>Mon 03 Jul 2017 07:04 AM</td>\n",
       "      <td>https://milfy.com.toronto.listcrawler.com/post...</td>\n",
       "      <td>toronto</td>\n",
       "      <td>34</td>\n",
       "      <td>Sexual Deviant LOVES 2ROCK IT NAUGHTY! My sexu...</td>\n",
       "      <td>New Halton Girl! Outcall MIND BL0-WING DEVIANT...</td>\n",
       "      <td>Burlington, Hamilton, Oakville milton, Oakvill...</td>\n",
       "      <td>['2897801427']</td>\n",
       "      <td>['2897801427']</td>\n",
       "      <td>[]</td>\n",
       "    </tr>\n",
       "    <tr>\n",
       "      <th>3</th>\n",
       "      <td>Thu 29 Sep 2016 12:06 AM</td>\n",
       "      <td>https://max80.com.vancouver.listcrawler.com/po...</td>\n",
       "      <td>vancouver</td>\n",
       "      <td>25</td>\n",
       "      <td>778 8four6 4234 Hi! I'm Tiffany baby! ;) LETS ...</td>\n",
       "      <td>Early Morning Drop In! Rates  $40-$100 TEXT NOW!</td>\n",
       "      <td>City of Vancouver, MARINE &amp;amp; CAMBIE, Vancouver</td>\n",
       "      <td>[]</td>\n",
       "      <td>['7788464234']</td>\n",
       "      <td>[]</td>\n",
       "    </tr>\n",
       "    <tr>\n",
       "      <th>4</th>\n",
       "      <td>Tue 03 May 2016 06:16 PM</td>\n",
       "      <td>https://milfy.com.barrie.listcrawler.com/post/...</td>\n",
       "      <td>barrie</td>\n",
       "      <td>33</td>\n",
       "      <td>HI GUYS ! I CANT WAIT TO MEET YOU !  I AM 33 5...</td>\n",
       "      <td>BARBIE aka (Cheyenne) 33 fetishes welcome, soa...</td>\n",
       "      <td>Barrie, Barrie and surrounding areas</td>\n",
       "      <td>['7053314617']</td>\n",
       "      <td>['7053314617']</td>\n",
       "      <td>[]</td>\n",
       "    </tr>\n",
       "  </tbody>\n",
       "</table>\n",
       "</div>"
      ],
      "text/plain": [
       "                PostingDate  \\\n",
       "0  Thu 14 Apr 2016 11:40 AM   \n",
       "1  Tue 04 Jul 2017 08:30 AM   \n",
       "2  Mon 03 Jul 2017 07:04 AM   \n",
       "3  Thu 29 Sep 2016 12:06 AM   \n",
       "4  Tue 03 May 2016 06:16 PM   \n",
       "\n",
       "                                                 Url l_Location u_Age  \\\n",
       "0  https://independent.com.calgary.listcrawler.co...    calgary    31   \n",
       "1  https://yolo.com.calgary.listcrawler.com/post/...    calgary    28   \n",
       "2  https://milfy.com.toronto.listcrawler.com/post...    toronto    34   \n",
       "3  https://max80.com.vancouver.listcrawler.com/po...  vancouver    25   \n",
       "4  https://milfy.com.barrie.listcrawler.com/post/...     barrie    33   \n",
       "\n",
       "                                       u_Description  \\\n",
       "0  Take the time to enjoy your night with me.. 40...   \n",
       "1  Maria Vega  Latina for Real!!!Plz read my rate...   \n",
       "2  Sexual Deviant LOVES 2ROCK IT NAUGHTY! My sexu...   \n",
       "3  778 8four6 4234 Hi! I'm Tiffany baby! ;) LETS ...   \n",
       "4  HI GUYS ! I CANT WAIT TO MEET YOU !  I AM 33 5...   \n",
       "\n",
       "                                             u_Title  \\\n",
       "0                                     Sinfully sweet   \n",
       "1  Tired fake AddsFake Expectations36 DDD Real 10...   \n",
       "2  New Halton Girl! Outcall MIND BL0-WING DEVIANT...   \n",
       "3   Early Morning Drop In! Rates  $40-$100 TEXT NOW!   \n",
       "4  BARBIE aka (Cheyenne) 33 fetishes welcome, soa...   \n",
       "\n",
       "                                          u_Location  e_PhoneNumbers  \\\n",
       "0  Calgary, Downtown, Mins from Downtown, Northea...  ['4039715391']   \n",
       "1  Calgary, Downtown, DOWNTOWN CORE INCALL and OU...  ['4389267478']   \n",
       "2  Burlington, Hamilton, Oakville milton, Oakvill...  ['2897801427']   \n",
       "3  City of Vancouver, MARINE &amp; CAMBIE, Vancouver              []   \n",
       "4               Barrie, Barrie and surrounding areas  ['7053314617']   \n",
       "\n",
       "   u_PhoneNumbers e_Emails  \n",
       "0  ['4039715391']       []  \n",
       "1  ['4389267478']       []  \n",
       "2  ['2897801427']       []  \n",
       "3  ['7788464234']       []  \n",
       "4  ['7053314617']       []  "
      ]
     },
     "execution_count": 7,
     "metadata": {},
     "output_type": "execute_result"
    }
   ],
   "source": [
    "# read in the HT data file\n",
    "data_file = \"../Data/ComplexDataLab_Canadian_OctoberBatch.csv\"\n",
    "data = pd.read_csv(data_file, index_col=0)\n",
    "data.head()"
   ]
  },
  {
   "cell_type": "code",
   "execution_count": 8,
   "metadata": {},
   "outputs": [
    {
     "data": {
      "text/plain": [
       "(932888, 10)"
      ]
     },
     "execution_count": 8,
     "metadata": {},
     "output_type": "execute_result"
    }
   ],
   "source": [
    "# size of the data\n",
    "data.shape"
   ]
  },
  {
   "cell_type": "code",
   "execution_count": 13,
   "metadata": {},
   "outputs": [
    {
     "data": {
      "text/plain": [
       "(932888, 10)"
      ]
     },
     "execution_count": 13,
     "metadata": {},
     "output_type": "execute_result"
    }
   ],
   "source": [
    "data = data.drop_duplicates()\n",
    "data.shape"
   ]
  },
  {
   "cell_type": "code",
   "execution_count": 20,
   "metadata": {},
   "outputs": [],
   "source": [
    "# randomly sample some data points \n",
    "sampled_data = data.sample(n=1000)"
   ]
  },
  {
   "cell_type": "code",
   "execution_count": 21,
   "metadata": {},
   "outputs": [
    {
     "data": {
      "text/html": [
       "<div>\n",
       "<style scoped>\n",
       "    .dataframe tbody tr th:only-of-type {\n",
       "        vertical-align: middle;\n",
       "    }\n",
       "\n",
       "    .dataframe tbody tr th {\n",
       "        vertical-align: top;\n",
       "    }\n",
       "\n",
       "    .dataframe thead th {\n",
       "        text-align: right;\n",
       "    }\n",
       "</style>\n",
       "<table border=\"1\" class=\"dataframe\">\n",
       "  <thead>\n",
       "    <tr style=\"text-align: right;\">\n",
       "      <th></th>\n",
       "      <th>PostingDate</th>\n",
       "      <th>Url</th>\n",
       "      <th>l_Location</th>\n",
       "      <th>u_Age</th>\n",
       "      <th>u_Description</th>\n",
       "      <th>u_Title</th>\n",
       "      <th>u_Location</th>\n",
       "      <th>e_PhoneNumbers</th>\n",
       "      <th>u_PhoneNumbers</th>\n",
       "      <th>e_Emails</th>\n",
       "    </tr>\n",
       "  </thead>\n",
       "  <tbody>\n",
       "    <tr>\n",
       "      <th>127401</th>\n",
       "      <td>Wed 07 Jun 2017 08:47 AM</td>\n",
       "      <td>https://independent.com.calgary.listcrawler.co...</td>\n",
       "      <td>calgary</td>\n",
       "      <td>26</td>\n",
       "      <td>I Woke up feeling extra frisky and FUN! Allow ...</td>\n",
       "      <td>Start your morning off right breathtaking, gre...</td>\n",
       "      <td>Calgary, Downtown, Incall Downtown 7Ave/7St SW...</td>\n",
       "      <td>['4032067785']</td>\n",
       "      <td>['4032067785']</td>\n",
       "      <td>[]</td>\n",
       "    </tr>\n",
       "    <tr>\n",
       "      <th>910548</th>\n",
       "      <td>Tue 10 May 2016 03:03 PM</td>\n",
       "      <td>https://hongkongbobo.com.toronto.listcrawler.c...</td>\n",
       "      <td>toronto</td>\n",
       "      <td>21</td>\n",
       "      <td>AMIKO &amp; nana  &lt; Hi!!!! We are new in town . We...</td>\n",
       "      <td>..OUT Call 24/7  HOTTEST ASIAN PARTY Girls IN ...</td>\n",
       "      <td>Brampton, Durham Region, Toronto, Outcall Anyw...</td>\n",
       "      <td>['6476404510']</td>\n",
       "      <td>['6476404510']</td>\n",
       "      <td>['647-640-4510Outcall@Toronto']</td>\n",
       "    </tr>\n",
       "    <tr>\n",
       "      <th>912484</th>\n",
       "      <td>Tue 25 Jun 2019 12:02 PM</td>\n",
       "      <td>https://yolo.com.calgary.listcrawler.com/post/...</td>\n",
       "      <td>calgary</td>\n",
       "      <td>28</td>\n",
       "      <td>Text me and let hookup to  have a great fun .....</td>\n",
       "      <td>😧super honry seeking hard fucker</td>\n",
       "      <td>Canada</td>\n",
       "      <td>['2168154471']</td>\n",
       "      <td>['2168154471']</td>\n",
       "      <td>[]</td>\n",
       "    </tr>\n",
       "    <tr>\n",
       "      <th>583604</th>\n",
       "      <td>Thu 18 Jan 2018 04:15 PM</td>\n",
       "      <td>https://luxerotica.com.kingston.listcrawler.co...</td>\n",
       "      <td>kingston</td>\n",
       "      <td>25</td>\n",
       "      <td>New in town you need the best companionship wi...</td>\n",
       "      <td>EvA 819-919-6459</td>\n",
       "      <td>Kingston, Kingston motel super</td>\n",
       "      <td>['8199196459']</td>\n",
       "      <td>['8199196459']</td>\n",
       "      <td>[]</td>\n",
       "    </tr>\n",
       "    <tr>\n",
       "      <th>148399</th>\n",
       "      <td>Fri 24 Jun 2016 10:36 AM</td>\n",
       "      <td>https://yolo.com.calgary.listcrawler.com/post/...</td>\n",
       "      <td>calgary</td>\n",
       "      <td>22</td>\n",
       "      <td>Hi Guys im COCO *OPEN MIND-PARTY GIRL*  Sexy, ...</td>\n",
       "      <td>NAUGHTY !!IN&amp; OUT1000% real!  GORGEOUS -- SEXY...</td>\n",
       "      <td>Calgary, Calgary Incall or Outcall, Downtown</td>\n",
       "      <td>['1587718122', '5877181222']</td>\n",
       "      <td>['5877181222']</td>\n",
       "      <td>[]</td>\n",
       "    </tr>\n",
       "  </tbody>\n",
       "</table>\n",
       "</div>"
      ],
      "text/plain": [
       "                     PostingDate  \\\n",
       "127401  Wed 07 Jun 2017 08:47 AM   \n",
       "910548  Tue 10 May 2016 03:03 PM   \n",
       "912484  Tue 25 Jun 2019 12:02 PM   \n",
       "583604  Thu 18 Jan 2018 04:15 PM   \n",
       "148399  Fri 24 Jun 2016 10:36 AM   \n",
       "\n",
       "                                                      Url l_Location u_Age  \\\n",
       "127401  https://independent.com.calgary.listcrawler.co...    calgary    26   \n",
       "910548  https://hongkongbobo.com.toronto.listcrawler.c...    toronto    21   \n",
       "912484  https://yolo.com.calgary.listcrawler.com/post/...    calgary    28   \n",
       "583604  https://luxerotica.com.kingston.listcrawler.co...   kingston    25   \n",
       "148399  https://yolo.com.calgary.listcrawler.com/post/...    calgary    22   \n",
       "\n",
       "                                            u_Description  \\\n",
       "127401  I Woke up feeling extra frisky and FUN! Allow ...   \n",
       "910548  AMIKO & nana  < Hi!!!! We are new in town . We...   \n",
       "912484  Text me and let hookup to  have a great fun .....   \n",
       "583604  New in town you need the best companionship wi...   \n",
       "148399  Hi Guys im COCO *OPEN MIND-PARTY GIRL*  Sexy, ...   \n",
       "\n",
       "                                                  u_Title  \\\n",
       "127401  Start your morning off right breathtaking, gre...   \n",
       "910548  ..OUT Call 24/7  HOTTEST ASIAN PARTY Girls IN ...   \n",
       "912484                   😧super honry seeking hard fucker   \n",
       "583604                                   EvA 819-919-6459   \n",
       "148399  NAUGHTY !!IN& OUT1000% real!  GORGEOUS -- SEXY...   \n",
       "\n",
       "                                               u_Location  \\\n",
       "127401  Calgary, Downtown, Incall Downtown 7Ave/7St SW...   \n",
       "910548  Brampton, Durham Region, Toronto, Outcall Anyw...   \n",
       "912484                                             Canada   \n",
       "583604                     Kingston, Kingston motel super   \n",
       "148399       Calgary, Calgary Incall or Outcall, Downtown   \n",
       "\n",
       "                      e_PhoneNumbers  u_PhoneNumbers  \\\n",
       "127401                ['4032067785']  ['4032067785']   \n",
       "910548                ['6476404510']  ['6476404510']   \n",
       "912484                ['2168154471']  ['2168154471']   \n",
       "583604                ['8199196459']  ['8199196459']   \n",
       "148399  ['1587718122', '5877181222']  ['5877181222']   \n",
       "\n",
       "                               e_Emails  \n",
       "127401                               []  \n",
       "910548  ['647-640-4510Outcall@Toronto']  \n",
       "912484                               []  \n",
       "583604                               []  \n",
       "148399                               []  "
      ]
     },
     "execution_count": 21,
     "metadata": {},
     "output_type": "execute_result"
    }
   ],
   "source": [
    "sampled_data.head()"
   ]
  },
  {
   "cell_type": "code",
   "execution_count": 94,
   "metadata": {},
   "outputs": [],
   "source": [
    "data['label'] = None\n",
    "data['group'] = None\n",
    "grp_id = 1\n",
    "for grp in data.groupby('u_PhoneNumbers'):\n",
    "    ids = grp[1].index.values\n",
    "    if len(ids) <= 1:\n",
    "        data['label'].iloc[ids] = 0\n",
    "    else:\n",
    "        data['label'].iloc[ids] = 1\n",
    "    data['group'].iloc[ids] = grp_id\n",
    "    grp_id += 1"
   ]
  },
  {
   "cell_type": "code",
   "execution_count": 95,
   "metadata": {},
   "outputs": [
    {
     "data": {
      "text/html": [
       "<div>\n",
       "<style scoped>\n",
       "    .dataframe tbody tr th:only-of-type {\n",
       "        vertical-align: middle;\n",
       "    }\n",
       "\n",
       "    .dataframe tbody tr th {\n",
       "        vertical-align: top;\n",
       "    }\n",
       "\n",
       "    .dataframe thead th {\n",
       "        text-align: right;\n",
       "    }\n",
       "</style>\n",
       "<table border=\"1\" class=\"dataframe\">\n",
       "  <thead>\n",
       "    <tr style=\"text-align: right;\">\n",
       "      <th></th>\n",
       "      <th>PostingDate</th>\n",
       "      <th>Url</th>\n",
       "      <th>l_Location</th>\n",
       "      <th>u_Age</th>\n",
       "      <th>u_Description</th>\n",
       "      <th>u_Title</th>\n",
       "      <th>u_Location</th>\n",
       "      <th>e_PhoneNumbers</th>\n",
       "      <th>u_PhoneNumbers</th>\n",
       "      <th>e_Emails</th>\n",
       "      <th>label</th>\n",
       "      <th>group</th>\n",
       "    </tr>\n",
       "  </thead>\n",
       "  <tbody>\n",
       "    <tr>\n",
       "      <th>0</th>\n",
       "      <td>Thu 14 Apr 2016 11:40 AM</td>\n",
       "      <td>https://independent.com.calgary.listcrawler.co...</td>\n",
       "      <td>calgary</td>\n",
       "      <td>31</td>\n",
       "      <td>Take the time to enjoy your night with me.. 40...</td>\n",
       "      <td>Sinfully sweet</td>\n",
       "      <td>Calgary, Downtown, Mins from Downtown, Northea...</td>\n",
       "      <td>['4039715391']</td>\n",
       "      <td>['4039715391']</td>\n",
       "      <td>[]</td>\n",
       "      <td>1</td>\n",
       "      <td>23710</td>\n",
       "    </tr>\n",
       "    <tr>\n",
       "      <th>1</th>\n",
       "      <td>Tue 04 Jul 2017 08:30 AM</td>\n",
       "      <td>https://yolo.com.calgary.listcrawler.com/post/...</td>\n",
       "      <td>calgary</td>\n",
       "      <td>28</td>\n",
       "      <td>Maria Vega  Latina for Real!!!Plz read my rate...</td>\n",
       "      <td>Tired fake AddsFake Expectations36 DDD Real 10...</td>\n",
       "      <td>Calgary, Downtown, DOWNTOWN CORE INCALL and OU...</td>\n",
       "      <td>['4389267478']</td>\n",
       "      <td>['4389267478']</td>\n",
       "      <td>[]</td>\n",
       "      <td>1</td>\n",
       "      <td>31764</td>\n",
       "    </tr>\n",
       "    <tr>\n",
       "      <th>2</th>\n",
       "      <td>Mon 03 Jul 2017 07:04 AM</td>\n",
       "      <td>https://milfy.com.toronto.listcrawler.com/post...</td>\n",
       "      <td>toronto</td>\n",
       "      <td>34</td>\n",
       "      <td>Sexual Deviant LOVES 2ROCK IT NAUGHTY! My sexu...</td>\n",
       "      <td>New Halton Girl! Outcall MIND BL0-WING DEVIANT...</td>\n",
       "      <td>Burlington, Hamilton, Oakville milton, Oakvill...</td>\n",
       "      <td>['2897801427']</td>\n",
       "      <td>['2897801427']</td>\n",
       "      <td>[]</td>\n",
       "      <td>1</td>\n",
       "      <td>16253</td>\n",
       "    </tr>\n",
       "    <tr>\n",
       "      <th>3</th>\n",
       "      <td>Thu 29 Sep 2016 12:06 AM</td>\n",
       "      <td>https://max80.com.vancouver.listcrawler.com/po...</td>\n",
       "      <td>vancouver</td>\n",
       "      <td>25</td>\n",
       "      <td>778 8four6 4234 Hi! I'm Tiffany baby! ;) LETS ...</td>\n",
       "      <td>Early Morning Drop In! Rates  $40-$100 TEXT NOW!</td>\n",
       "      <td>City of Vancouver, MARINE &amp;amp; CAMBIE, Vancouver</td>\n",
       "      <td>[]</td>\n",
       "      <td>['7788464234']</td>\n",
       "      <td>[]</td>\n",
       "      <td>1</td>\n",
       "      <td>80398</td>\n",
       "    </tr>\n",
       "    <tr>\n",
       "      <th>4</th>\n",
       "      <td>Tue 03 May 2016 06:16 PM</td>\n",
       "      <td>https://milfy.com.barrie.listcrawler.com/post/...</td>\n",
       "      <td>barrie</td>\n",
       "      <td>33</td>\n",
       "      <td>HI GUYS ! I CANT WAIT TO MEET YOU !  I AM 33 5...</td>\n",
       "      <td>BARBIE aka (Cheyenne) 33 fetishes welcome, soa...</td>\n",
       "      <td>Barrie, Barrie and surrounding areas</td>\n",
       "      <td>['7053314617']</td>\n",
       "      <td>['7053314617']</td>\n",
       "      <td>[]</td>\n",
       "      <td>1</td>\n",
       "      <td>75746</td>\n",
       "    </tr>\n",
       "  </tbody>\n",
       "</table>\n",
       "</div>"
      ],
      "text/plain": [
       "                PostingDate  \\\n",
       "0  Thu 14 Apr 2016 11:40 AM   \n",
       "1  Tue 04 Jul 2017 08:30 AM   \n",
       "2  Mon 03 Jul 2017 07:04 AM   \n",
       "3  Thu 29 Sep 2016 12:06 AM   \n",
       "4  Tue 03 May 2016 06:16 PM   \n",
       "\n",
       "                                                 Url l_Location u_Age  \\\n",
       "0  https://independent.com.calgary.listcrawler.co...    calgary    31   \n",
       "1  https://yolo.com.calgary.listcrawler.com/post/...    calgary    28   \n",
       "2  https://milfy.com.toronto.listcrawler.com/post...    toronto    34   \n",
       "3  https://max80.com.vancouver.listcrawler.com/po...  vancouver    25   \n",
       "4  https://milfy.com.barrie.listcrawler.com/post/...     barrie    33   \n",
       "\n",
       "                                       u_Description  \\\n",
       "0  Take the time to enjoy your night with me.. 40...   \n",
       "1  Maria Vega  Latina for Real!!!Plz read my rate...   \n",
       "2  Sexual Deviant LOVES 2ROCK IT NAUGHTY! My sexu...   \n",
       "3  778 8four6 4234 Hi! I'm Tiffany baby! ;) LETS ...   \n",
       "4  HI GUYS ! I CANT WAIT TO MEET YOU !  I AM 33 5...   \n",
       "\n",
       "                                             u_Title  \\\n",
       "0                                     Sinfully sweet   \n",
       "1  Tired fake AddsFake Expectations36 DDD Real 10...   \n",
       "2  New Halton Girl! Outcall MIND BL0-WING DEVIANT...   \n",
       "3   Early Morning Drop In! Rates  $40-$100 TEXT NOW!   \n",
       "4  BARBIE aka (Cheyenne) 33 fetishes welcome, soa...   \n",
       "\n",
       "                                          u_Location  e_PhoneNumbers  \\\n",
       "0  Calgary, Downtown, Mins from Downtown, Northea...  ['4039715391']   \n",
       "1  Calgary, Downtown, DOWNTOWN CORE INCALL and OU...  ['4389267478']   \n",
       "2  Burlington, Hamilton, Oakville milton, Oakvill...  ['2897801427']   \n",
       "3  City of Vancouver, MARINE &amp; CAMBIE, Vancouver              []   \n",
       "4               Barrie, Barrie and surrounding areas  ['7053314617']   \n",
       "\n",
       "   u_PhoneNumbers e_Emails label  group  \n",
       "0  ['4039715391']       []     1  23710  \n",
       "1  ['4389267478']       []     1  31764  \n",
       "2  ['2897801427']       []     1  16253  \n",
       "3  ['7788464234']       []     1  80398  \n",
       "4  ['7053314617']       []     1  75746  "
      ]
     },
     "execution_count": 95,
     "metadata": {},
     "output_type": "execute_result"
    }
   ],
   "source": [
    "data.head()"
   ]
  },
  {
   "cell_type": "code",
   "execution_count": 49,
   "metadata": {},
   "outputs": [],
   "source": [
    "def get_ngrams(text):\n",
    "    tokens = word_tokenize(text)\n",
    "    tokensProcessed = [token.lower() for token in tokens if token not in stopwords.words('english')]\n",
    "    bigrams = list(ngrams(tokensProcessed, 2))\n",
    "    unigrams = list(ngrams(tokensProcessed, 1))\n",
    "    return unigrams, bigrams"
   ]
  },
  {
   "cell_type": "code",
   "execution_count": 126,
   "metadata": {},
   "outputs": [],
   "source": [
    "def get_loc_features(text):\n",
    "    vectorizer = CountVectorizer(tokenizer=word_tokenize, stop_words=stopwords.words('english'), ngram_range=(1,1))\n",
    "    features = vectorizer.fit_transform(text)\n",
    "    return features.toarray(), vectorizer.get_feature_names()"
   ]
  },
  {
   "cell_type": "code",
   "execution_count": 124,
   "metadata": {},
   "outputs": [],
   "source": [
    "def get_features(text):\n",
    "    vectorizer_uni = CountVectorizer(tokenizer=word_tokenize, stop_words=stopwords.words('english'), ngram_range=(1,1))\n",
    "    features_uni = vectorizer_uni.fit_transform(text)\n",
    "    vectorizer_bi = CountVectorizer(tokenizer=word_tokenize, stop_words=stopwords.words('english'), ngram_range=(2,2))\n",
    "    features_bi = vectorizer_bi.fit_transform(text)\n",
    "    return features_uni.toarray(), vectorizer_uni.get_feature_names(), features_bi.toarray(), vectorizer_bi.get_feature_names()"
   ]
  },
  {
   "cell_type": "code",
   "execution_count": 125,
   "metadata": {},
   "outputs": [
    {
     "name": "stderr",
     "output_type": "stream",
     "text": [
      "/usr/local/lib/python3.6/dist-packages/sklearn/feature_extraction/text.py:386: UserWarning: Your stop_words may be inconsistent with your preprocessing. Tokenizing the stop words generated tokens [\"'d\", \"'ll\", \"'re\", \"'s\", \"'ve\", 'could', 'might', 'must', \"n't\", 'need', 'sha', 'wo', 'would'] not in stop_words.\n",
      "  'stop_words.' % sorted(inconsistent))\n"
     ]
    }
   ],
   "source": [
    "desc_features_uni, desc_feature_names_uni, desc_features_bi, desc_feature_names_bi = get_features(sampled_data.u_Description)\n",
    "title_features_uni, title_feature_names_uni, title_features_bi, title_feature_names_bi = get_features(sampled_data.u_Title)"
   ]
  },
  {
   "cell_type": "code",
   "execution_count": 127,
   "metadata": {},
   "outputs": [],
   "source": [
    "loc_features, loc_feature_names = get_loc_features(sampled_data.u_Location)"
   ]
  },
  {
   "cell_type": "code",
   "execution_count": null,
   "metadata": {},
   "outputs": [],
   "source": []
  },
  {
   "cell_type": "code",
   "execution_count": 129,
   "metadata": {},
   "outputs": [
    {
     "data": {
      "text/plain": [
       "(1000, 9964)"
      ]
     },
     "execution_count": 129,
     "metadata": {},
     "output_type": "execute_result"
    }
   ],
   "source": [
    "title_features.shape"
   ]
  },
  {
   "cell_type": "code",
   "execution_count": 131,
   "metadata": {},
   "outputs": [],
   "source": [
    "feature_vectors = np.concatenate((desc_features_uni, desc_features_bi, title_features_uni, title_features_bi, title_features_bi), axis=1)"
   ]
  },
  {
   "cell_type": "code",
   "execution_count": 132,
   "metadata": {},
   "outputs": [
    {
     "data": {
      "text/plain": [
       "(1000, 49936)"
      ]
     },
     "execution_count": 132,
     "metadata": {},
     "output_type": "execute_result"
    }
   ],
   "source": [
    "feature_vectors.shape"
   ]
  },
  {
   "cell_type": "code",
   "execution_count": 133,
   "metadata": {},
   "outputs": [],
   "source": [
    "sampled_data_labels = data.iloc[sampled_data.index].label.values"
   ]
  },
  {
   "cell_type": "code",
   "execution_count": 134,
   "metadata": {},
   "outputs": [],
   "source": [
    "pkl.dump(sampled_data_labels, open(\"sampled_data_labels.pkl\",\"wb\"))\n",
    "pkl.dump(feature_vectors, open(\"sampled_data_features.pkl\",\"wb\"))"
   ]
  },
  {
   "cell_type": "code",
   "execution_count": 135,
   "metadata": {},
   "outputs": [],
   "source": [
    "feature_names = np.append(np.append(np.append(np.append(desc_feature_names_uni, desc_feature_names_bi), title_feature_names_uni), title_feature_names_bi), loc_feature_names).shape"
   ]
  },
  {
   "cell_type": "code",
   "execution_count": 136,
   "metadata": {},
   "outputs": [],
   "source": [
    "pkl.dump(feature_names, open(\"sample_data/sampled_data_feature_names.pkl\",\"wb\"))"
   ]
  },
  {
   "cell_type": "code",
   "execution_count": 137,
   "metadata": {},
   "outputs": [],
   "source": [
    "pkl.dump(desc_feature_names_uni, open(\"sample_data/desc_feature_names_uni.pkl\",\"wb\"))\n",
    "pkl.dump(desc_feature_names_bi, open(\"sample_data/desc_feature_names_bi.pkl\",\"wb\"))\n",
    "pkl.dump(title_feature_names_uni, open(\"sample_data/title_feature_names_uni.pkl\",\"wb\"))\n",
    "pkl.dump(title_feature_names_bi, open(\"sample_data/title_feature_names_bi.pkl\",\"wb\"))\n",
    "pkl.dump(loc_feature_names, open(\"sample_data/loc_feature_names.pkl\",\"wb\"))"
   ]
  },
  {
   "cell_type": "code",
   "execution_count": null,
   "metadata": {},
   "outputs": [],
   "source": []
  }
 ],
 "metadata": {
  "kernelspec": {
   "display_name": "Python 3",
   "language": "python",
   "name": "python3"
  },
  "language_info": {
   "codemirror_mode": {
    "name": "ipython",
    "version": 3
   },
   "file_extension": ".py",
   "mimetype": "text/x-python",
   "name": "python",
   "nbconvert_exporter": "python",
   "pygments_lexer": "ipython3",
   "version": "3.6.9"
  }
 },
 "nbformat": 4,
 "nbformat_minor": 2
}

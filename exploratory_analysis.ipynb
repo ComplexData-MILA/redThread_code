{
 "cells": [
  {
   "cell_type": "code",
   "execution_count": 9,
   "metadata": {},
   "outputs": [],
   "source": [
    "import pandas as pd\n",
    "import numpy as np\n",
    "import pickle as pkl\n",
    "import matplotlib.pyplot as plt\n",
    "\n",
    "from nltk import word_tokenize \n",
    "from nltk.util import ngrams\n",
    "from nltk.corpus import stopwords\n",
    "from tqdm.notebook import tqdm_notebook as tqdm\n",
    "\n",
    "from sklearn.feature_extraction.text import CountVectorizer"
   ]
  },
  {
   "cell_type": "code",
   "execution_count": 2,
   "metadata": {},
   "outputs": [
    {
     "name": "stderr",
     "output_type": "stream",
     "text": [
      "/usr/local/lib/python3.6/dist-packages/IPython/core/interactiveshell.py:3051: DtypeWarning: Columns (4) have mixed types.Specify dtype option on import or set low_memory=False.\n",
      "  interactivity=interactivity, compiler=compiler, result=result)\n"
     ]
    },
    {
     "data": {
      "text/html": [
       "<div>\n",
       "<style scoped>\n",
       "    .dataframe tbody tr th:only-of-type {\n",
       "        vertical-align: middle;\n",
       "    }\n",
       "\n",
       "    .dataframe tbody tr th {\n",
       "        vertical-align: top;\n",
       "    }\n",
       "\n",
       "    .dataframe thead th {\n",
       "        text-align: right;\n",
       "    }\n",
       "</style>\n",
       "<table border=\"1\" class=\"dataframe\">\n",
       "  <thead>\n",
       "    <tr style=\"text-align: right;\">\n",
       "      <th></th>\n",
       "      <th>PostingDate</th>\n",
       "      <th>Url</th>\n",
       "      <th>l_Location</th>\n",
       "      <th>u_Age</th>\n",
       "      <th>u_Description</th>\n",
       "      <th>u_Title</th>\n",
       "      <th>u_Location</th>\n",
       "      <th>e_PhoneNumbers</th>\n",
       "      <th>u_PhoneNumbers</th>\n",
       "      <th>e_Emails</th>\n",
       "    </tr>\n",
       "  </thead>\n",
       "  <tbody>\n",
       "    <tr>\n",
       "      <th>0</th>\n",
       "      <td>Thu 14 Apr 2016 11:40 AM</td>\n",
       "      <td>https://independent.com.calgary.listcrawler.co...</td>\n",
       "      <td>calgary</td>\n",
       "      <td>31</td>\n",
       "      <td>Take the time to enjoy your night with me.. 40...</td>\n",
       "      <td>Sinfully sweet</td>\n",
       "      <td>Calgary, Downtown, Mins from Downtown, Northea...</td>\n",
       "      <td>['4039715391']</td>\n",
       "      <td>['4039715391']</td>\n",
       "      <td>[]</td>\n",
       "    </tr>\n",
       "    <tr>\n",
       "      <th>1</th>\n",
       "      <td>Tue 04 Jul 2017 08:30 AM</td>\n",
       "      <td>https://yolo.com.calgary.listcrawler.com/post/...</td>\n",
       "      <td>calgary</td>\n",
       "      <td>28</td>\n",
       "      <td>Maria Vega  Latina for Real!!!Plz read my rate...</td>\n",
       "      <td>Tired fake AddsFake Expectations36 DDD Real 10...</td>\n",
       "      <td>Calgary, Downtown, DOWNTOWN CORE INCALL and OU...</td>\n",
       "      <td>['4389267478']</td>\n",
       "      <td>['4389267478']</td>\n",
       "      <td>[]</td>\n",
       "    </tr>\n",
       "    <tr>\n",
       "      <th>2</th>\n",
       "      <td>Mon 03 Jul 2017 07:04 AM</td>\n",
       "      <td>https://milfy.com.toronto.listcrawler.com/post...</td>\n",
       "      <td>toronto</td>\n",
       "      <td>34</td>\n",
       "      <td>Sexual Deviant LOVES 2ROCK IT NAUGHTY! My sexu...</td>\n",
       "      <td>New Halton Girl! Outcall MIND BL0-WING DEVIANT...</td>\n",
       "      <td>Burlington, Hamilton, Oakville milton, Oakvill...</td>\n",
       "      <td>['2897801427']</td>\n",
       "      <td>['2897801427']</td>\n",
       "      <td>[]</td>\n",
       "    </tr>\n",
       "    <tr>\n",
       "      <th>3</th>\n",
       "      <td>Thu 29 Sep 2016 12:06 AM</td>\n",
       "      <td>https://max80.com.vancouver.listcrawler.com/po...</td>\n",
       "      <td>vancouver</td>\n",
       "      <td>25</td>\n",
       "      <td>778 8four6 4234 Hi! I'm Tiffany baby! ;) LETS ...</td>\n",
       "      <td>Early Morning Drop In! Rates  $40-$100 TEXT NOW!</td>\n",
       "      <td>City of Vancouver, MARINE &amp;amp; CAMBIE, Vancouver</td>\n",
       "      <td>[]</td>\n",
       "      <td>['7788464234']</td>\n",
       "      <td>[]</td>\n",
       "    </tr>\n",
       "    <tr>\n",
       "      <th>4</th>\n",
       "      <td>Tue 03 May 2016 06:16 PM</td>\n",
       "      <td>https://milfy.com.barrie.listcrawler.com/post/...</td>\n",
       "      <td>barrie</td>\n",
       "      <td>33</td>\n",
       "      <td>HI GUYS ! I CANT WAIT TO MEET YOU !  I AM 33 5...</td>\n",
       "      <td>BARBIE aka (Cheyenne) 33 fetishes welcome, soa...</td>\n",
       "      <td>Barrie, Barrie and surrounding areas</td>\n",
       "      <td>['7053314617']</td>\n",
       "      <td>['7053314617']</td>\n",
       "      <td>[]</td>\n",
       "    </tr>\n",
       "  </tbody>\n",
       "</table>\n",
       "</div>"
      ],
      "text/plain": [
       "                PostingDate  \\\n",
       "0  Thu 14 Apr 2016 11:40 AM   \n",
       "1  Tue 04 Jul 2017 08:30 AM   \n",
       "2  Mon 03 Jul 2017 07:04 AM   \n",
       "3  Thu 29 Sep 2016 12:06 AM   \n",
       "4  Tue 03 May 2016 06:16 PM   \n",
       "\n",
       "                                                 Url l_Location u_Age  \\\n",
       "0  https://independent.com.calgary.listcrawler.co...    calgary    31   \n",
       "1  https://yolo.com.calgary.listcrawler.com/post/...    calgary    28   \n",
       "2  https://milfy.com.toronto.listcrawler.com/post...    toronto    34   \n",
       "3  https://max80.com.vancouver.listcrawler.com/po...  vancouver    25   \n",
       "4  https://milfy.com.barrie.listcrawler.com/post/...     barrie    33   \n",
       "\n",
       "                                       u_Description  \\\n",
       "0  Take the time to enjoy your night with me.. 40...   \n",
       "1  Maria Vega  Latina for Real!!!Plz read my rate...   \n",
       "2  Sexual Deviant LOVES 2ROCK IT NAUGHTY! My sexu...   \n",
       "3  778 8four6 4234 Hi! I'm Tiffany baby! ;) LETS ...   \n",
       "4  HI GUYS ! I CANT WAIT TO MEET YOU !  I AM 33 5...   \n",
       "\n",
       "                                             u_Title  \\\n",
       "0                                     Sinfully sweet   \n",
       "1  Tired fake AddsFake Expectations36 DDD Real 10...   \n",
       "2  New Halton Girl! Outcall MIND BL0-WING DEVIANT...   \n",
       "3   Early Morning Drop In! Rates  $40-$100 TEXT NOW!   \n",
       "4  BARBIE aka (Cheyenne) 33 fetishes welcome, soa...   \n",
       "\n",
       "                                          u_Location  e_PhoneNumbers  \\\n",
       "0  Calgary, Downtown, Mins from Downtown, Northea...  ['4039715391']   \n",
       "1  Calgary, Downtown, DOWNTOWN CORE INCALL and OU...  ['4389267478']   \n",
       "2  Burlington, Hamilton, Oakville milton, Oakvill...  ['2897801427']   \n",
       "3  City of Vancouver, MARINE &amp; CAMBIE, Vancouver              []   \n",
       "4               Barrie, Barrie and surrounding areas  ['7053314617']   \n",
       "\n",
       "   u_PhoneNumbers e_Emails  \n",
       "0  ['4039715391']       []  \n",
       "1  ['4389267478']       []  \n",
       "2  ['2897801427']       []  \n",
       "3  ['7788464234']       []  \n",
       "4  ['7053314617']       []  "
      ]
     },
     "execution_count": 2,
     "metadata": {},
     "output_type": "execute_result"
    }
   ],
   "source": [
    "# read in the HT data file\n",
    "data_file = \"../Data/ComplexDataLab_Canadian_OctoberBatch.csv\"\n",
    "data = pd.read_csv(data_file, index_col=0)\n",
    "data.head()"
   ]
  },
  {
   "cell_type": "code",
   "execution_count": 3,
   "metadata": {},
   "outputs": [
    {
     "data": {
      "text/plain": [
       "(932888, 10)"
      ]
     },
     "execution_count": 3,
     "metadata": {},
     "output_type": "execute_result"
    }
   ],
   "source": [
    "# size of the data\n",
    "data.shape"
   ]
  },
  {
   "cell_type": "code",
   "execution_count": 4,
   "metadata": {},
   "outputs": [
    {
     "data": {
      "text/plain": [
       "(932888, 10)"
      ]
     },
     "execution_count": 4,
     "metadata": {},
     "output_type": "execute_result"
    }
   ],
   "source": [
    "data = data.drop_duplicates()\n",
    "data.shape"
   ]
  },
  {
   "cell_type": "code",
   "execution_count": 6,
   "metadata": {},
   "outputs": [],
   "source": [
    "# randomly sample some data points \n",
    "sampled_data = data.sample(n=5000)"
   ]
  },
  {
   "cell_type": "code",
   "execution_count": 7,
   "metadata": {},
   "outputs": [
    {
     "data": {
      "text/html": [
       "<div>\n",
       "<style scoped>\n",
       "    .dataframe tbody tr th:only-of-type {\n",
       "        vertical-align: middle;\n",
       "    }\n",
       "\n",
       "    .dataframe tbody tr th {\n",
       "        vertical-align: top;\n",
       "    }\n",
       "\n",
       "    .dataframe thead th {\n",
       "        text-align: right;\n",
       "    }\n",
       "</style>\n",
       "<table border=\"1\" class=\"dataframe\">\n",
       "  <thead>\n",
       "    <tr style=\"text-align: right;\">\n",
       "      <th></th>\n",
       "      <th>PostingDate</th>\n",
       "      <th>Url</th>\n",
       "      <th>l_Location</th>\n",
       "      <th>u_Age</th>\n",
       "      <th>u_Description</th>\n",
       "      <th>u_Title</th>\n",
       "      <th>u_Location</th>\n",
       "      <th>e_PhoneNumbers</th>\n",
       "      <th>u_PhoneNumbers</th>\n",
       "      <th>e_Emails</th>\n",
       "    </tr>\n",
       "  </thead>\n",
       "  <tbody>\n",
       "    <tr>\n",
       "      <th>642087</th>\n",
       "      <td>Fri 18 Aug 2017 08:33 PM</td>\n",
       "      <td>https://candy.com.montreal.listcrawler.com/pos...</td>\n",
       "      <td>montreal</td>\n",
       "      <td>21</td>\n",
       "      <td>Hi boys :)  Lexie21 years old, 5'6 125lbs Blon...</td>\n",
       "      <td>Lexie  ---    438-800-9850100% Independant</td>\n",
       "      <td>City of Montreal, Montreal</td>\n",
       "      <td>['4388009850']</td>\n",
       "      <td>['4388009850']</td>\n",
       "      <td>[]</td>\n",
       "    </tr>\n",
       "    <tr>\n",
       "      <th>575134</th>\n",
       "      <td>Fri 02 Jun 2017 12:25 AM</td>\n",
       "      <td>https://candy.com.brantford.listcrawler.com/po...</td>\n",
       "      <td>brantford</td>\n",
       "      <td>32</td>\n",
       "      <td>Brittney JUICY VOLUPTUOUS % all CANADIAN CUTIE...</td>\n",
       "      <td>Coming to Town tomorrow BOOK NOW   SEXY CURVY ...</td>\n",
       "      <td>Brantford-Woodstock, Woodstock</td>\n",
       "      <td>['2898316607']</td>\n",
       "      <td>['2898316607']</td>\n",
       "      <td>[]</td>\n",
       "    </tr>\n",
       "    <tr>\n",
       "      <th>570482</th>\n",
       "      <td>Wed 16 Mar 2016 03:09 PM</td>\n",
       "      <td>https://candy.com.toronto.listcrawler.com/post...</td>\n",
       "      <td>toronto</td>\n",
       "      <td>21</td>\n",
       "      <td>your dream girl is here! I'm Ms StacyThis is a...</td>\n",
       "      <td>VB  B   P #1M$TD 647-713-9111</td>\n",
       "      <td>427/Dundas, Brampton, City of Toronto, Mississ...</td>\n",
       "      <td>['6477139111']</td>\n",
       "      <td>['6477139111']</td>\n",
       "      <td>[]</td>\n",
       "    </tr>\n",
       "    <tr>\n",
       "      <th>801067</th>\n",
       "      <td>Sat 16 Feb 2019 03:33 AM</td>\n",
       "      <td>https://blackdynomite.com.toronto.listcrawler....</td>\n",
       "      <td>toronto</td>\n",
       "      <td>21</td>\n",
       "      <td>hi gentlemen  My name is destiny ’m new in INT...</td>\n",
       "      <td>Come taste the sweetest caramel chocolate</td>\n",
       "      <td>Mississauga</td>\n",
       "      <td>['4167192068']</td>\n",
       "      <td>['6477192068']</td>\n",
       "      <td>[]</td>\n",
       "    </tr>\n",
       "    <tr>\n",
       "      <th>33314</th>\n",
       "      <td>Wed 14 Jun 2017 05:27 PM</td>\n",
       "      <td>https://aypapi.com.vancouver.listcrawler.com/p...</td>\n",
       "      <td>vancouver</td>\n",
       "      <td>22</td>\n",
       "      <td>Hey gentlemen!&lt; A Lets have some fun .. I'm a ...</td>\n",
       "      <td>the perfect treat       you haven't had  the b...</td>\n",
       "      <td>Airport, Richmond, Vancouver</td>\n",
       "      <td>['6477999487']</td>\n",
       "      <td>['6477999487']</td>\n",
       "      <td>[]</td>\n",
       "    </tr>\n",
       "  </tbody>\n",
       "</table>\n",
       "</div>"
      ],
      "text/plain": [
       "                     PostingDate  \\\n",
       "642087  Fri 18 Aug 2017 08:33 PM   \n",
       "575134  Fri 02 Jun 2017 12:25 AM   \n",
       "570482  Wed 16 Mar 2016 03:09 PM   \n",
       "801067  Sat 16 Feb 2019 03:33 AM   \n",
       "33314   Wed 14 Jun 2017 05:27 PM   \n",
       "\n",
       "                                                      Url l_Location u_Age  \\\n",
       "642087  https://candy.com.montreal.listcrawler.com/pos...   montreal    21   \n",
       "575134  https://candy.com.brantford.listcrawler.com/po...  brantford    32   \n",
       "570482  https://candy.com.toronto.listcrawler.com/post...    toronto    21   \n",
       "801067  https://blackdynomite.com.toronto.listcrawler....    toronto    21   \n",
       "33314   https://aypapi.com.vancouver.listcrawler.com/p...  vancouver    22   \n",
       "\n",
       "                                            u_Description  \\\n",
       "642087  Hi boys :)  Lexie21 years old, 5'6 125lbs Blon...   \n",
       "575134  Brittney JUICY VOLUPTUOUS % all CANADIAN CUTIE...   \n",
       "570482  your dream girl is here! I'm Ms StacyThis is a...   \n",
       "801067  hi gentlemen  My name is destiny ’m new in INT...   \n",
       "33314   Hey gentlemen!< A Lets have some fun .. I'm a ...   \n",
       "\n",
       "                                                  u_Title  \\\n",
       "642087         Lexie  ---    438-800-9850100% Independant   \n",
       "575134  Coming to Town tomorrow BOOK NOW   SEXY CURVY ...   \n",
       "570482                      VB  B   P #1M$TD 647-713-9111   \n",
       "801067          Come taste the sweetest caramel chocolate   \n",
       "33314   the perfect treat       you haven't had  the b...   \n",
       "\n",
       "                                               u_Location  e_PhoneNumbers  \\\n",
       "642087                         City of Montreal, Montreal  ['4388009850']   \n",
       "575134                     Brantford-Woodstock, Woodstock  ['2898316607']   \n",
       "570482  427/Dundas, Brampton, City of Toronto, Mississ...  ['6477139111']   \n",
       "801067                                        Mississauga  ['4167192068']   \n",
       "33314                        Airport, Richmond, Vancouver  ['6477999487']   \n",
       "\n",
       "        u_PhoneNumbers e_Emails  \n",
       "642087  ['4388009850']       []  \n",
       "575134  ['2898316607']       []  \n",
       "570482  ['6477139111']       []  \n",
       "801067  ['6477192068']       []  \n",
       "33314   ['6477999487']       []  "
      ]
     },
     "execution_count": 7,
     "metadata": {},
     "output_type": "execute_result"
    }
   ],
   "source": [
    "sampled_data.head()"
   ]
  },
  {
   "cell_type": "code",
   "execution_count": 10,
   "metadata": {},
   "outputs": [
    {
     "data": {
      "application/vnd.jupyter.widget-view+json": {
       "model_id": "632ce7472a1348088d82cdef4fc2605e",
       "version_major": 2,
       "version_minor": 0
      },
      "text/plain": [
       "HBox(children=(FloatProgress(value=0.0, max=86756.0), HTML(value='')))"
      ]
     },
     "metadata": {},
     "output_type": "display_data"
    },
    {
     "name": "stdout",
     "output_type": "stream",
     "text": [
      "\n"
     ]
    }
   ],
   "source": [
    "data['label'] = None\n",
    "data['group'] = None\n",
    "grp_id = 1\n",
    "for grp in tqdm(data.groupby('u_PhoneNumbers')):\n",
    "    ids = grp[1].index.values\n",
    "    if len(ids) <= 1:\n",
    "        data['label'].iloc[ids] = 0\n",
    "    else:\n",
    "        data['label'].iloc[ids] = 1\n",
    "    data['group'].iloc[ids] = grp_id\n",
    "    grp_id += 1"
   ]
  },
  {
   "cell_type": "code",
   "execution_count": 11,
   "metadata": {},
   "outputs": [
    {
     "data": {
      "text/html": [
       "<div>\n",
       "<style scoped>\n",
       "    .dataframe tbody tr th:only-of-type {\n",
       "        vertical-align: middle;\n",
       "    }\n",
       "\n",
       "    .dataframe tbody tr th {\n",
       "        vertical-align: top;\n",
       "    }\n",
       "\n",
       "    .dataframe thead th {\n",
       "        text-align: right;\n",
       "    }\n",
       "</style>\n",
       "<table border=\"1\" class=\"dataframe\">\n",
       "  <thead>\n",
       "    <tr style=\"text-align: right;\">\n",
       "      <th></th>\n",
       "      <th>PostingDate</th>\n",
       "      <th>Url</th>\n",
       "      <th>l_Location</th>\n",
       "      <th>u_Age</th>\n",
       "      <th>u_Description</th>\n",
       "      <th>u_Title</th>\n",
       "      <th>u_Location</th>\n",
       "      <th>e_PhoneNumbers</th>\n",
       "      <th>u_PhoneNumbers</th>\n",
       "      <th>e_Emails</th>\n",
       "      <th>label</th>\n",
       "      <th>group</th>\n",
       "    </tr>\n",
       "  </thead>\n",
       "  <tbody>\n",
       "    <tr>\n",
       "      <th>0</th>\n",
       "      <td>Thu 14 Apr 2016 11:40 AM</td>\n",
       "      <td>https://independent.com.calgary.listcrawler.co...</td>\n",
       "      <td>calgary</td>\n",
       "      <td>31</td>\n",
       "      <td>Take the time to enjoy your night with me.. 40...</td>\n",
       "      <td>Sinfully sweet</td>\n",
       "      <td>Calgary, Downtown, Mins from Downtown, Northea...</td>\n",
       "      <td>['4039715391']</td>\n",
       "      <td>['4039715391']</td>\n",
       "      <td>[]</td>\n",
       "      <td>1</td>\n",
       "      <td>23710</td>\n",
       "    </tr>\n",
       "    <tr>\n",
       "      <th>1</th>\n",
       "      <td>Tue 04 Jul 2017 08:30 AM</td>\n",
       "      <td>https://yolo.com.calgary.listcrawler.com/post/...</td>\n",
       "      <td>calgary</td>\n",
       "      <td>28</td>\n",
       "      <td>Maria Vega  Latina for Real!!!Plz read my rate...</td>\n",
       "      <td>Tired fake AddsFake Expectations36 DDD Real 10...</td>\n",
       "      <td>Calgary, Downtown, DOWNTOWN CORE INCALL and OU...</td>\n",
       "      <td>['4389267478']</td>\n",
       "      <td>['4389267478']</td>\n",
       "      <td>[]</td>\n",
       "      <td>1</td>\n",
       "      <td>31764</td>\n",
       "    </tr>\n",
       "    <tr>\n",
       "      <th>2</th>\n",
       "      <td>Mon 03 Jul 2017 07:04 AM</td>\n",
       "      <td>https://milfy.com.toronto.listcrawler.com/post...</td>\n",
       "      <td>toronto</td>\n",
       "      <td>34</td>\n",
       "      <td>Sexual Deviant LOVES 2ROCK IT NAUGHTY! My sexu...</td>\n",
       "      <td>New Halton Girl! Outcall MIND BL0-WING DEVIANT...</td>\n",
       "      <td>Burlington, Hamilton, Oakville milton, Oakvill...</td>\n",
       "      <td>['2897801427']</td>\n",
       "      <td>['2897801427']</td>\n",
       "      <td>[]</td>\n",
       "      <td>1</td>\n",
       "      <td>16253</td>\n",
       "    </tr>\n",
       "    <tr>\n",
       "      <th>3</th>\n",
       "      <td>Thu 29 Sep 2016 12:06 AM</td>\n",
       "      <td>https://max80.com.vancouver.listcrawler.com/po...</td>\n",
       "      <td>vancouver</td>\n",
       "      <td>25</td>\n",
       "      <td>778 8four6 4234 Hi! I'm Tiffany baby! ;) LETS ...</td>\n",
       "      <td>Early Morning Drop In! Rates  $40-$100 TEXT NOW!</td>\n",
       "      <td>City of Vancouver, MARINE &amp;amp; CAMBIE, Vancouver</td>\n",
       "      <td>[]</td>\n",
       "      <td>['7788464234']</td>\n",
       "      <td>[]</td>\n",
       "      <td>1</td>\n",
       "      <td>80398</td>\n",
       "    </tr>\n",
       "    <tr>\n",
       "      <th>4</th>\n",
       "      <td>Tue 03 May 2016 06:16 PM</td>\n",
       "      <td>https://milfy.com.barrie.listcrawler.com/post/...</td>\n",
       "      <td>barrie</td>\n",
       "      <td>33</td>\n",
       "      <td>HI GUYS ! I CANT WAIT TO MEET YOU !  I AM 33 5...</td>\n",
       "      <td>BARBIE aka (Cheyenne) 33 fetishes welcome, soa...</td>\n",
       "      <td>Barrie, Barrie and surrounding areas</td>\n",
       "      <td>['7053314617']</td>\n",
       "      <td>['7053314617']</td>\n",
       "      <td>[]</td>\n",
       "      <td>1</td>\n",
       "      <td>75746</td>\n",
       "    </tr>\n",
       "  </tbody>\n",
       "</table>\n",
       "</div>"
      ],
      "text/plain": [
       "                PostingDate  \\\n",
       "0  Thu 14 Apr 2016 11:40 AM   \n",
       "1  Tue 04 Jul 2017 08:30 AM   \n",
       "2  Mon 03 Jul 2017 07:04 AM   \n",
       "3  Thu 29 Sep 2016 12:06 AM   \n",
       "4  Tue 03 May 2016 06:16 PM   \n",
       "\n",
       "                                                 Url l_Location u_Age  \\\n",
       "0  https://independent.com.calgary.listcrawler.co...    calgary    31   \n",
       "1  https://yolo.com.calgary.listcrawler.com/post/...    calgary    28   \n",
       "2  https://milfy.com.toronto.listcrawler.com/post...    toronto    34   \n",
       "3  https://max80.com.vancouver.listcrawler.com/po...  vancouver    25   \n",
       "4  https://milfy.com.barrie.listcrawler.com/post/...     barrie    33   \n",
       "\n",
       "                                       u_Description  \\\n",
       "0  Take the time to enjoy your night with me.. 40...   \n",
       "1  Maria Vega  Latina for Real!!!Plz read my rate...   \n",
       "2  Sexual Deviant LOVES 2ROCK IT NAUGHTY! My sexu...   \n",
       "3  778 8four6 4234 Hi! I'm Tiffany baby! ;) LETS ...   \n",
       "4  HI GUYS ! I CANT WAIT TO MEET YOU !  I AM 33 5...   \n",
       "\n",
       "                                             u_Title  \\\n",
       "0                                     Sinfully sweet   \n",
       "1  Tired fake AddsFake Expectations36 DDD Real 10...   \n",
       "2  New Halton Girl! Outcall MIND BL0-WING DEVIANT...   \n",
       "3   Early Morning Drop In! Rates  $40-$100 TEXT NOW!   \n",
       "4  BARBIE aka (Cheyenne) 33 fetishes welcome, soa...   \n",
       "\n",
       "                                          u_Location  e_PhoneNumbers  \\\n",
       "0  Calgary, Downtown, Mins from Downtown, Northea...  ['4039715391']   \n",
       "1  Calgary, Downtown, DOWNTOWN CORE INCALL and OU...  ['4389267478']   \n",
       "2  Burlington, Hamilton, Oakville milton, Oakvill...  ['2897801427']   \n",
       "3  City of Vancouver, MARINE &amp; CAMBIE, Vancouver              []   \n",
       "4               Barrie, Barrie and surrounding areas  ['7053314617']   \n",
       "\n",
       "   u_PhoneNumbers e_Emails label  group  \n",
       "0  ['4039715391']       []     1  23710  \n",
       "1  ['4389267478']       []     1  31764  \n",
       "2  ['2897801427']       []     1  16253  \n",
       "3  ['7788464234']       []     1  80398  \n",
       "4  ['7053314617']       []     1  75746  "
      ]
     },
     "execution_count": 11,
     "metadata": {},
     "output_type": "execute_result"
    }
   ],
   "source": [
    "data.head()"
   ]
  },
  {
   "cell_type": "code",
   "execution_count": 12,
   "metadata": {},
   "outputs": [],
   "source": [
    "data.to_csv(\"data_with_labels.csv\",index=None)"
   ]
  },
  {
   "cell_type": "code",
   "execution_count": 68,
   "metadata": {},
   "outputs": [],
   "source": [
    "sampled_data = pd.concat([data[data.label==1].sample(n=500), data[data.label==0].sample(n=500)])"
   ]
  },
  {
   "cell_type": "code",
   "execution_count": 69,
   "metadata": {},
   "outputs": [],
   "source": [
    "sampled_data = sampled_data.sample(frac=1)"
   ]
  },
  {
   "cell_type": "code",
   "execution_count": 70,
   "metadata": {},
   "outputs": [],
   "source": [
    "def get_ngrams(text):\n",
    "    tokens = word_tokenize(text)\n",
    "    tokensProcessed = [token.lower() for token in tokens if token not in stopwords.words('english')]\n",
    "    bigrams = list(ngrams(tokensProcessed, 2))\n",
    "    unigrams = list(ngrams(tokensProcessed, 1))\n",
    "    return unigrams, bigrams"
   ]
  },
  {
   "cell_type": "code",
   "execution_count": 71,
   "metadata": {},
   "outputs": [],
   "source": [
    "def get_loc_features(text):\n",
    "    vectorizer = CountVectorizer(tokenizer=word_tokenize, stop_words=stopwords.words('english'), ngram_range=(1,1))\n",
    "    features = vectorizer.fit_transform(text)\n",
    "    return features.toarray(), vectorizer.get_feature_names()"
   ]
  },
  {
   "cell_type": "code",
   "execution_count": 72,
   "metadata": {},
   "outputs": [],
   "source": [
    "def get_features(text):\n",
    "    vectorizer_uni = CountVectorizer(tokenizer=word_tokenize, stop_words=stopwords.words('english'), ngram_range=(1,1))\n",
    "    features_uni = vectorizer_uni.fit_transform(text)\n",
    "    vectorizer_bi = CountVectorizer(tokenizer=word_tokenize, stop_words=stopwords.words('english'), ngram_range=(2,2))\n",
    "    features_bi = vectorizer_bi.fit_transform(text)\n",
    "    return features_uni.toarray(), vectorizer_uni.get_feature_names(), features_bi.toarray(), vectorizer_bi.get_feature_names()"
   ]
  },
  {
   "cell_type": "code",
   "execution_count": 105,
   "metadata": {},
   "outputs": [],
   "source": [
    "desc_features_uni, desc_feature_names_uni, desc_features_bi, desc_feature_names_bi = get_features(sampled_data.u_Description)\n",
    "title_features_uni, title_feature_names_uni, title_features_bi, title_feature_names_bi = get_features(sampled_data.u_Title)"
   ]
  },
  {
   "cell_type": "code",
   "execution_count": 106,
   "metadata": {},
   "outputs": [],
   "source": [
    "loc_features, loc_feature_names = get_loc_features(sampled_data.u_Location)"
   ]
  },
  {
   "cell_type": "code",
   "execution_count": null,
   "metadata": {},
   "outputs": [],
   "source": []
  },
  {
   "cell_type": "code",
   "execution_count": 75,
   "metadata": {},
   "outputs": [
    {
     "data": {
      "text/plain": [
       "(1000, 3134)"
      ]
     },
     "execution_count": 75,
     "metadata": {},
     "output_type": "execute_result"
    }
   ],
   "source": [
    "title_features_uni.shape"
   ]
  },
  {
   "cell_type": "code",
   "execution_count": 107,
   "metadata": {},
   "outputs": [],
   "source": [
    "feature_vectors = np.concatenate((desc_features_uni, desc_features_bi, title_features_uni, title_features_bi, title_features_bi), axis=1)"
   ]
  },
  {
   "cell_type": "code",
   "execution_count": 108,
   "metadata": {},
   "outputs": [
    {
     "data": {
      "text/plain": [
       "(1000, 55607)"
      ]
     },
     "execution_count": 108,
     "metadata": {},
     "output_type": "execute_result"
    }
   ],
   "source": [
    "feature_vectors.shape"
   ]
  },
  {
   "cell_type": "code",
   "execution_count": 109,
   "metadata": {},
   "outputs": [],
   "source": [
    "sampled_data_labels = sampled_data.label.values"
   ]
  },
  {
   "cell_type": "code",
   "execution_count": 110,
   "metadata": {},
   "outputs": [],
   "source": [
    "pkl.dump(sampled_data_labels, open(\"sample_data/sampled_data_labels.pkl\",\"wb\"))\n",
    "pkl.dump(feature_vectors, open(\"sample_data/sampled_data_features.pkl\",\"wb\"), protocol=4)"
   ]
  },
  {
   "cell_type": "code",
   "execution_count": 96,
   "metadata": {},
   "outputs": [],
   "source": [
    "feature_names = np.append(np.append(np.append(np.append(desc_feature_names_uni, desc_feature_names_bi), title_feature_names_uni), title_feature_names_bi), loc_feature_names)"
   ]
  },
  {
   "cell_type": "code",
   "execution_count": 113,
   "metadata": {},
   "outputs": [],
   "source": [
    "pkl.dump(feature_names, open(\"sample_data/sampled_data_feature_names.pkl\",\"wb\"), protocol=4)"
   ]
  },
  {
   "cell_type": "code",
   "execution_count": 112,
   "metadata": {},
   "outputs": [],
   "source": [
    "feature_names = list(set(np.concatenate([desc_feature_names_uni, desc_feature_names_bi, title_feature_names_uni, title_feature_names_bi, loc_feature_names])))"
   ]
  },
  {
   "cell_type": "code",
   "execution_count": 114,
   "metadata": {},
   "outputs": [
    {
     "data": {
      "application/vnd.jupyter.widget-view+json": {
       "model_id": "16ccda744f0d441a98a09827593142f4",
       "version_major": 2,
       "version_minor": 0
      },
      "text/plain": [
       "HBox(children=(FloatProgress(value=0.0, max=46445.0), HTML(value='')))"
      ]
     },
     "metadata": {},
     "output_type": "display_data"
    },
    {
     "name": "stdout",
     "output_type": "stream",
     "text": [
      "\n"
     ]
    }
   ],
   "source": [
    "# mapping feature words to ids\n",
    "word_to_id_map = {}\n",
    "counter = 1\n",
    "for word in tqdm(set(feature_names)):\n",
    "    word_to_id_map[word] = -counter\n",
    "    counter += 1"
   ]
  },
  {
   "cell_type": "code",
   "execution_count": 115,
   "metadata": {},
   "outputs": [],
   "source": [
    "desc_feature_names_uni_values = []\n",
    "for word in set(desc_feature_names_uni):\n",
    "    desc_feature_names_uni_values.append(word_to_id_map[word])\n",
    "\n",
    "desc_feature_names_bi_values = []\n",
    "for word in set(desc_feature_names_bi):\n",
    "    desc_feature_names_bi_values.append(word_to_id_map[word])\n",
    "    \n",
    "title_feature_names_uni_values = []\n",
    "for word in set(title_feature_names_uni):\n",
    "    title_feature_names_uni_values.append(word_to_id_map[word])\n",
    "    \n",
    "title_feature_names_bi_values = []\n",
    "for word in set(title_feature_names_bi):\n",
    "    title_feature_names_bi_values.append(word_to_id_map[word])\n",
    "    \n",
    "loc_feature_names_values = []\n",
    "for word in set(loc_feature_names):\n",
    "    loc_feature_names_values.append(word_to_id_map[word])"
   ]
  },
  {
   "cell_type": "code",
   "execution_count": 119,
   "metadata": {},
   "outputs": [],
   "source": [
    "pkl.dump(desc_feature_names_uni_values, open(\"sample_data/desc_feature_names_uni.pkl\",\"wb\"))\n",
    "pkl.dump(desc_feature_names_bi_values, open(\"sample_data/desc_feature_names_bi.pkl\",\"wb\"))\n",
    "pkl.dump(title_feature_names_uni_values, open(\"sample_data/title_feature_names_uni.pkl\",\"wb\"))\n",
    "pkl.dump(title_feature_names_bi_values, open(\"sample_data/title_feature_names_bi.pkl\",\"wb\"))\n",
    "pkl.dump(loc_feature_names_values, open(\"sample_data/loc_feature_names.pkl\",\"wb\"))"
   ]
  },
  {
   "cell_type": "code",
   "execution_count": 120,
   "metadata": {},
   "outputs": [],
   "source": [
    "pkl.dump(word_to_id_map, open(\"sample_data/feature_name_to_id_map.pkl\",\"wb\"))"
   ]
  },
  {
   "cell_type": "code",
   "execution_count": null,
   "metadata": {},
   "outputs": [],
   "source": []
  },
  {
   "cell_type": "code",
   "execution_count": null,
   "metadata": {},
   "outputs": [],
   "source": []
  }
 ],
 "metadata": {
  "kernelspec": {
   "display_name": "Python 3",
   "language": "python",
   "name": "python3"
  },
  "language_info": {
   "codemirror_mode": {
    "name": "ipython",
    "version": 3
   },
   "file_extension": ".py",
   "mimetype": "text/x-python",
   "name": "python",
   "nbconvert_exporter": "python",
   "pygments_lexer": "ipython3",
   "version": "3.6.9"
  }
 },
 "nbformat": 4,
 "nbformat_minor": 2
}
